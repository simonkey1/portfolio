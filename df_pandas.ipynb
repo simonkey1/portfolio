{
 "cells": [
  {
   "cell_type": "code",
   "execution_count": null,
   "metadata": {},
   "outputs": [],
   "source": []
  },
  {
   "cell_type": "code",
   "execution_count": null,
   "metadata": {},
   "outputs": [],
   "source": [
    "import pandas as pd\n",
    "\n",
    "# Cargar el DataFrame (asegúrate de incluir las columnas necesarias)\n",
    "\n",
    "df_final = pd.read_csv('df_final11.csv')\n",
    "\n",
    "df_final['date'] = pd.to_datetime(df_final['ts'])\n",
    "\n",
    "    # Extraer el año\n",
    "df_final['year'] = df_final['date'].dt.year\n",
    "\n",
    "    # Eliminar zona horaria de 'date'\n",
    "df_final['date'] = df_final['date'].dt.tz_localize(None)\n",
    "\n",
    "df_final['artist'] = df_final['master_metadata_album_artist_name']\n",
    "\n",
    "df_final['song'] = df_final['master_metadata_track_name']\n",
    "\n",
    "df_final['min_played'] = df_final['ms_played'] / 60000\n",
    "\n",
    "df_final['month'] = df_final['date'].dt.month\n",
    "\n",
    "\n",
    "    # Definir rango de fechas\n",
    "fecha_inicio = pd.Timestamp(\"2017-01-01\")\n",
    "fecha_fin = pd.Timestamp(\"2024-12-29\")\n",
    "\n",
    "    # Filtrar el DataFrame dentro del rango de fechas\n",
    "df_final = df_final[(df_final['date'] >= fecha_inicio) & (df_final['date'] <= fecha_fin)]\n",
    "\n",
    "    # Agrupar los datos por año y mes\n",
    "df_grouped = df_final.groupby(['year', 'month'])['min_played'].sum().reset_index()\n",
    "\n",
    "artist_years = df_final.groupby('artist')['year'].nunique().reset_index()\n",
    "artist_years = artist_years.rename(columns={'year': 'years_active'})\n",
    "\n",
    "    # Filtrar artistas con años activos = 8\n",
    "consistent_artists = artist_years[artist_years['years_active'] == 8]\n",
    "\n",
    "    # Calcular el total de minutos reproducidos por artista\n",
    "artist_playtime = df_final.groupby('artist')['min_played'].sum().reset_index()\n",
    "artist_playtime = artist_playtime.rename(columns={'min_played': 'total_min_played'})\n",
    "\n",
    "    # Unir con los artistas consistentes\n",
    "consistent_artists = consistent_artists.merge(artist_playtime, on='artist')\n",
    "\n",
    "    # Ordenar por minutos reproducidos y tomar el top N\n",
    "\n",
    "\n",
    "\n",
    "# seleccionar solo las variables a utilizar\n",
    "\n",
    "df_final = df_final[['date', 'year', 'artist', 'song', 'ms_played', 'min_played', 'ts', 'month']]\n",
    "\n",
    "# exportar df_final\n",
    "\n",
    "df_final.to_csv('df_final1.csv', index=False)"
   ]
  },
  {
   "cell_type": "code",
   "execution_count": 7,
   "metadata": {},
   "outputs": [],
   "source": [
    "\n",
    "import pandas as pd\n",
    "df_final = pd.read_csv('df_final.csv')"
   ]
  },
  {
   "cell_type": "code",
   "execution_count": null,
   "metadata": {},
   "outputs": [],
   "source": []
  },
  {
   "cell_type": "code",
   "execution_count": null,
   "metadata": {},
   "outputs": [],
   "source": [
    "print(df_final.head())\n",
    "print(df_final.dtypes)\n"
   ]
  },
  {
   "cell_type": "code",
   "execution_count": null,
   "metadata": {},
   "outputs": [],
   "source": [
    "from pandasgui import show\n",
    "\n",
    "show(df_final)"
   ]
  },
  {
   "cell_type": "code",
   "execution_count": null,
   "metadata": {},
   "outputs": [],
   "source": []
  },
  {
   "cell_type": "code",
   "execution_count": 10,
   "metadata": {},
   "outputs": [
    {
     "data": {
      "text/html": [
       "<div>\n",
       "<style scoped>\n",
       "    .dataframe tbody tr th:only-of-type {\n",
       "        vertical-align: middle;\n",
       "    }\n",
       "\n",
       "    .dataframe tbody tr th {\n",
       "        vertical-align: top;\n",
       "    }\n",
       "\n",
       "    .dataframe thead th {\n",
       "        text-align: right;\n",
       "    }\n",
       "</style>\n",
       "<table border=\"1\" class=\"dataframe\">\n",
       "  <thead>\n",
       "    <tr style=\"text-align: right;\">\n",
       "      <th></th>\n",
       "      <th>year</th>\n",
       "      <th>min_played</th>\n",
       "    </tr>\n",
       "  </thead>\n",
       "  <tbody>\n",
       "    <tr>\n",
       "      <th>0</th>\n",
       "      <td>2020</td>\n",
       "      <td>3.409483</td>\n",
       "    </tr>\n",
       "    <tr>\n",
       "      <th>1</th>\n",
       "      <td>2021</td>\n",
       "      <td>0.219533</td>\n",
       "    </tr>\n",
       "    <tr>\n",
       "      <th>2</th>\n",
       "      <td>2022</td>\n",
       "      <td>28.660250</td>\n",
       "    </tr>\n",
       "    <tr>\n",
       "      <th>3</th>\n",
       "      <td>2023</td>\n",
       "      <td>2287.860483</td>\n",
       "    </tr>\n",
       "    <tr>\n",
       "      <th>4</th>\n",
       "      <td>2024</td>\n",
       "      <td>8957.109733</td>\n",
       "    </tr>\n",
       "  </tbody>\n",
       "</table>\n",
       "</div>"
      ],
      "text/plain": [
       "   year   min_played\n",
       "0  2020     3.409483\n",
       "1  2021     0.219533\n",
       "2  2022    28.660250\n",
       "3  2023  2287.860483\n",
       "4  2024  8957.109733"
      ]
     },
     "execution_count": 10,
     "metadata": {},
     "output_type": "execute_result"
    }
   ],
   "source": [
    "#  porcentaje de subida de minutos escuchados de Mora de 2024 respecto al 2023\n",
    "\n",
    "# Filtrar los datos de Mora\n",
    "\n",
    "mora_data = df_final[df_final['artist'] == 'Mora']\n",
    "\n",
    "# Agrupar por año y sumar los minutos reproducidos\n",
    "\n",
    "mora_grouped = mora_data.groupby('year')['min_played'].sum().reset_index()\n",
    "\n",
    "# Filtrar los años 2023 y 2024\n",
    "\n",
    "mora_2023 = mora_grouped[mora_grouped['year'] == 2023]['min_played'].values[0]\n",
    "\n",
    "\n",
    "mora_grouped\n"
   ]
  }
 ],
 "metadata": {
  "kernelspec": {
   "display_name": ".venv",
   "language": "python",
   "name": "python3"
  },
  "language_info": {
   "codemirror_mode": {
    "name": "ipython",
    "version": 3
   },
   "file_extension": ".py",
   "mimetype": "text/x-python",
   "name": "python",
   "nbconvert_exporter": "python",
   "pygments_lexer": "ipython3",
   "version": "3.12.2"
  }
 },
 "nbformat": 4,
 "nbformat_minor": 2
}
